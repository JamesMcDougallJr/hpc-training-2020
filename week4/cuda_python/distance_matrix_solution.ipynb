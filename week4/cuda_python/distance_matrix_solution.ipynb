{
 "cells": [
  {
   "cell_type": "code",
   "execution_count": 1,
   "metadata": {},
   "outputs": [],
   "source": [
    "import numba\n",
    "from numba import cuda\n",
    "import numpy as np\n",
    "import math"
   ]
  },
  {
   "cell_type": "code",
   "execution_count": 2,
   "metadata": {},
   "outputs": [],
   "source": [
    "# CONSTANTS\n",
    "ATOM_MAX = 29\n",
    "N = int(5e8)"
   ]
  },
  {
   "cell_type": "code",
   "execution_count": 3,
   "metadata": {},
   "outputs": [],
   "source": [
    "shape = ( N, ATOM_MAX, ATOM_MAX )"
   ]
  },
  {
   "cell_type": "code",
   "execution_count": 4,
   "metadata": {},
   "outputs": [],
   "source": [
    "@cuda.jit\n",
    "def distance_mat(crds, natoms, edge_feats):\n",
    "    \n",
    "    tx = cuda.threadIdx.x\n",
    "    ty = cuda.threadIdx.y\n",
    "    bx = cuda.blockIdx.x\n",
    "    \n",
    "    edge_feats[bx, tx, ty] = 0.0\n",
    "    \n",
    "    # bounds check\n",
    "    N = natoms[bx]\n",
    "    if tx >= N: return\n",
    "    if ty >= N: return \n",
    "    \n",
    "    for i in range(3):\n",
    "        edge_feats[bx, tx, ty] += ( crds[bx, tx, i] - crds[bx, ty, i] )**2\n",
    "    edge_feats[bx, tx, ty] = math.sqrt(edge_feats[bx, tx, ty])  \n",
    "\n"
   ]
  },
  {
   "cell_type": "code",
   "execution_count": null,
   "metadata": {},
   "outputs": [],
   "source": []
  },
  {
   "cell_type": "code",
   "execution_count": null,
   "metadata": {},
   "outputs": [],
   "source": [
    "# create result array on the GPU\n",
    "edge_feats_gpu = cuda.device_array(shape, dtype=np.float32)\n",
    "\n",
    "# transfer structures data (the coordinates) to GPU\n",
    "structures_gpu = cuda.to_device(structures_crd_mat)\n",
    "natoms_gpu = cuda.to_device(structures_natoms_mat)\n",
    "\n",
    "# launch kernel\n",
    "distance_mat[ N , (29, 29)](structures_gpu, natoms_gpu, edge_feats_gpu)\n",
    "\n",
    "# copy the data back\n",
    "edge_feats_cpu = edge_feats_gpu.copy_to_host()"
   ]
  }
 ],
 "metadata": {
  "kernelspec": {
   "display_name": "Python 3",
   "language": "python",
   "name": "python3"
  },
  "language_info": {
   "codemirror_mode": {
    "name": "ipython",
    "version": 3
   },
   "file_extension": ".py",
   "mimetype": "text/x-python",
   "name": "python",
   "nbconvert_exporter": "python",
   "pygments_lexer": "ipython3",
   "version": "3.7.6"
  }
 },
 "nbformat": 4,
 "nbformat_minor": 4
}
