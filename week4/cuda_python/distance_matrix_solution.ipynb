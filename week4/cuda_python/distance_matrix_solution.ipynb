{
 "cells": [
  {
   "cell_type": "code",
   "execution_count": 1,
   "metadata": {},
   "outputs": [],
   "source": [
    "import numba\n",
    "from numba import cuda\n",
    "import numpy as np\n",
    "import math"
   ]
  },
  {
   "cell_type": "code",
   "execution_count": 2,
   "metadata": {},
   "outputs": [],
   "source": [
    "# CONSTANTS\n",
    "ATOM_MAX = 29\n",
    "N = int(1e4)"
   ]
  },
  {
   "cell_type": "code",
   "execution_count": 3,
   "metadata": {},
   "outputs": [],
   "source": [
    "@cuda.jit\n",
    "def compute_distance_mat(crds, natoms, dmat):\n",
    "    \n",
    "    tx = cuda.threadIdx.x\n",
    "    ty = cuda.threadIdx.y\n",
    "    bx = cuda.blockIdx.x\n",
    "    \n",
    "    dmat[bx, tx, ty] = 0.0\n",
    "    \n",
    "    # bounds check\n",
    "    N = natoms[bx]\n",
    "    if tx >= N: return\n",
    "    if ty >= N: return \n",
    "    \n",
    "    for i in range(3):\n",
    "        dmat[bx, tx, ty] += ( crds[bx, tx, i] - crds[bx, ty, i] )**2\n",
    "    dmat[bx, tx, ty] = math.sqrt(dmat[bx, tx, ty])  "
   ]
  },
  {
   "cell_type": "code",
   "execution_count": 4,
   "metadata": {},
   "outputs": [],
   "source": [
    "crds = np.random.random((N, ATOM_MAX, 3))\n",
    "crds_natoms = np.array([ATOM_MAX]*N)"
   ]
  },
  {
   "cell_type": "code",
   "execution_count": 5,
   "metadata": {},
   "outputs": [],
   "source": [
    "# create result array on the GPU\n",
    "shape = (N, ATOM_MAX, ATOM_MAX)\n",
    "distance_mat_gpu = cuda.device_array(shape, dtype=np.float32)"
   ]
  },
  {
   "cell_type": "code",
   "execution_count": 6,
   "metadata": {},
   "outputs": [
    {
     "name": "stdout",
     "output_type": "stream",
     "text": [
      "198 ms ± 0 ns per loop (mean ± std. dev. of 1 run, 1 loop each)\n"
     ]
    },
    {
     "data": {
      "text/plain": [
       "<TimeitResult : 198 ms ± 0 ns per loop (mean ± std. dev. of 1 run, 1 loop each)>"
      ]
     },
     "execution_count": 6,
     "metadata": {},
     "output_type": "execute_result"
    }
   ],
   "source": [
    "%%timeit -n1 -r1 -o\n",
    "\n",
    "# transfer structures data (the coordinates) to GPU\n",
    "crds_gpu = cuda.to_device(crds)\n",
    "crds_natoms_gpu = cuda.to_device(crds_natoms)\n",
    "\n",
    "# launch kernel\n",
    "compute_distance_mat[ N , (29, 29)](crds_gpu, crds_natoms_gpu, distance_mat_gpu)\n",
    "\n",
    "# copy the data back\n",
    "distance_mat_cpu = distance_mat_gpu.copy_to_host()"
   ]
  },
  {
   "cell_type": "code",
   "execution_count": 7,
   "metadata": {},
   "outputs": [],
   "source": [
    "# store the timing result\n",
    "GPU_TIMING = _"
   ]
  },
  {
   "cell_type": "code",
   "execution_count": 8,
   "metadata": {},
   "outputs": [],
   "source": [
    "dmat_np_cpu = np.zeros((N, ATOM_MAX, ATOM_MAX))"
   ]
  },
  {
   "cell_type": "code",
   "execution_count": 9,
   "metadata": {},
   "outputs": [
    {
     "name": "stdout",
     "output_type": "stream",
     "text": [
      "56.1 s ± 0 ns per loop (mean ± std. dev. of 1 run, 1 loop each)\n"
     ]
    },
    {
     "data": {
      "text/plain": [
       "<TimeitResult : 56.1 s ± 0 ns per loop (mean ± std. dev. of 1 run, 1 loop each)>"
      ]
     },
     "execution_count": 9,
     "metadata": {},
     "output_type": "execute_result"
    }
   ],
   "source": [
    "%%timeit -n1 -r1 -o\n",
    "\n",
    "for m in range(N):\n",
    "    for i in range(ATOM_MAX):\n",
    "        for j in range(ATOM_MAX):\n",
    "            dmat_np_cpu[m,i,j] = np.sqrt(np.sum((crds[m, i] - crds[m,j])**2))"
   ]
  },
  {
   "cell_type": "code",
   "execution_count": 10,
   "metadata": {},
   "outputs": [],
   "source": [
    "# store the timing result\n",
    "CPU_TIMING = _"
   ]
  },
  {
   "cell_type": "code",
   "execution_count": 11,
   "metadata": {},
   "outputs": [
    {
     "name": "stdout",
     "output_type": "stream",
     "text": [
      "Speedup factor:  283.8613698743943 X\n"
     ]
    }
   ],
   "source": [
    "print('Speedup factor: ', CPU_TIMING.average / GPU_TIMING.average, 'X')"
   ]
  },
  {
   "cell_type": "code",
   "execution_count": 12,
   "metadata": {},
   "outputs": [
    {
     "name": "stdout",
     "output_type": "stream",
     "text": [
      "results agree\n"
     ]
    }
   ],
   "source": [
    "# copy the data back (again)\n",
    "distance_mat_cpu = distance_mat_gpu.copy_to_host()\n",
    "\n",
    "# check results\n",
    "tol = 1e-4\n",
    "error = 0\n",
    "for m in range(N):\n",
    "    for i in range(ATOM_MAX):\n",
    "        for j in range(ATOM_MAX):\n",
    "            r = dmat_np_cpu[m,i,j] - distance_mat_cpu[m,i,j]\n",
    "            if r>tol:\n",
    "                error=1\n",
    "if not error:\n",
    "    print('results agree')"
   ]
  }
 ],
 "metadata": {
  "kernelspec": {
   "display_name": "Python 3",
   "language": "python",
   "name": "python3"
  },
  "language_info": {
   "codemirror_mode": {
    "name": "ipython",
    "version": 3
   },
   "file_extension": ".py",
   "mimetype": "text/x-python",
   "name": "python",
   "nbconvert_exporter": "python",
   "pygments_lexer": "ipython3",
   "version": "3.7.6"
  }
 },
 "nbformat": 4,
 "nbformat_minor": 4
}
